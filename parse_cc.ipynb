{
 "cells": [
  {
   "cell_type": "code",
   "execution_count": null,
   "id": "a45eab6a-8cab-4276-9a1e-8fb8a94c5c32",
   "metadata": {
    "tags": []
   },
   "outputs": [],
   "source": [
    "from html.parser import HTMLParser\n",
    "\n",
    "# Read file into string\n",
    "html_file = open('cdp-2022-cc.html', 'r')\n",
    "cdp_data = html_file.read()\n",
    "html_file.close()\n",
    "\n",
    "# Init variables\n",
    "bInSection = False\n",
    "\n",
    "# ==========\n",
    "# Parse HTML\n",
    "# ==========\n",
    "class MyHTMLParser(HTMLParser):\n",
    "\n",
    "    def handle_starttag(self, tag, attrs):        \n",
    "        if tag == 'section':\n",
    "            print(\"Entered section\")\n",
    "            bInSection = True\n",
    "            \n",
    "        if bInSection == True:\n",
    "            print(\"Encountered a start tag:\", tag)\n",
    "                \n",
    "    def handle_endtag(self, tag):        \n",
    "        if tag == 'section':\n",
    "            print(\"Left section\")\n",
    "            bInSection = False\n",
    "            \n",
    "        if bInSection == True:\n",
    "            print(\"Encountered an end tag :\", tag) \n",
    "    \n",
    "    def handle_data(self, data):\n",
    "        if bInSection == True:\n",
    "            print(\"Encountered some data  :\", data)\n",
    "        \n",
    "parser = MyHTMLParser()\n",
    "parser.feed(cdp_data)"
   ]
  },
  {
   "cell_type": "code",
   "execution_count": null,
   "id": "42b774b0-1fdd-4bf3-ab9a-5734f7699ee7",
   "metadata": {},
   "outputs": [],
   "source": []
  }
 ],
 "metadata": {
  "kernelspec": {
   "display_name": "Python 3",
   "language": "python",
   "name": "python3"
  },
  "language_info": {
   "codemirror_mode": {
    "name": "ipython",
    "version": 3
   },
   "file_extension": ".py",
   "mimetype": "text/x-python",
   "name": "python",
   "nbconvert_exporter": "python",
   "pygments_lexer": "ipython3",
   "version": "3.7.8"
  }
 },
 "nbformat": 4,
 "nbformat_minor": 5
}
